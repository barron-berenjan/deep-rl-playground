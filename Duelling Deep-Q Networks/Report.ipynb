{
 "cells": [
  {
   "cell_type": "markdown",
   "metadata": {},
   "source": [
    "## Learning Algorithm\n",
    "\n",
    "The learning algorithm implemented for this assignment is <a href=\"https://arxiv.org/pdf/1802.09477.pdf\">TD3</a> which addresses the overestimation bias of <a href=\"https://arxiv.org/abs/1509.02971\">DDPG</a> - an off-policy, actor/critic network that inherits concepts from Deep-Q Learning such as _Experience Replay_ and _Fixed Q-Targets_ to train environments with continuous action spaces. The main fundamental difference between TD3 and DDPG is the use of two critic networks to estimate Q-values, using the smaller of the two to form the targets in the Bellman error loss functions. Other differences include:\n",
    "\n",
    " - the use of noise to regularize target actions, used by the critic to estimate Q-values\n",
    " - delayed update of the actor network\n",
    "  \n",
    "For this assignment, I trained an agent using both __DDPG__ and __TD3__ and the learning plots are displayed below. DDPG took ~3500 episodes to complete the task (i.e. achieve an average score of +30 over 100 consecutive episodes) and i found it difficult to settle on good hyper-parameters. Additionally, as can be seen, there is a lot of variance across episodes and the trajectory is not as smooth as TD3 which took ~442 episodes to complete the task! \n",
    "\n",
    "<br>\n",
    "\n",
    "\n",
    "\n",
    "DDPG            |  TD3\n",
    ":-------------------------:|:-------------------------:\n",
    "<img src=\"img/DPDG_Continuous_Control.png\"> |  <img src=\"img/TD3_Continuous_Control.png\">\n",
    "\n",
    "\n",
    "<br>\n",
    "\n",
    "\n",
    "\n",
    "### Architecture and Hyperparameters\n",
    "\n",
    "\n",
    "The network architecture and hyperparameters for the TD3 model are below\n",
    "\n",
    "<br>\n",
    "\n",
    "\n",
    "<center> Actor </center>\n",
    "\n",
    "| Layer | Input  | Output   |   \n",
    "|:-------|:--------|:----------|\n",
    "|FC1    |   33 (state space)  |  400       |   \n",
    "|FC2    |   400   |  300      |   \n",
    "|FC3    |   300     |   4 (action space)    |\n",
    "    \n",
    "<br>\n",
    "<br>\n",
    "\n",
    "<center> Critic </center>\n",
    "\n",
    "| Layer | Input  | Output   |   \n",
    "|:-------|:--------|:----------|\n",
    "|FC1    |   37 (state space) + 4 (action space)   |  400       |   \n",
    "|FC2    |   400    |  300      |   \n",
    "|FC3    |   300     |   1  (Q-value)  |\n",
    "\n",
    "<br>\n",
    "\n",
    "####  Parameters used for training :\n",
    "\n",
    "```python\n",
    "\n",
    "BUFFER_SIZE = int(1e6)  # replay buffer size\n",
    "BATCH_SIZE = 512        # minibatch size\n",
    "GAMMA = 0.99            # discount factor\n",
    "TAU = 5e-3              # for soft update of target parameters\n",
    "LR_ACTOR = 1e-5         # learning rate of the actor\n",
    "LR_CRITIC = 1e-4        # learning rate of the critic\n",
    "WEIGHT_DECAY = 0        # L2 weight decay\n",
    "UPDATE_EVERY = 2        # Steps to update agent\n",
    "\n",
    "```"
   ]
  },
  {
   "cell_type": "markdown",
   "metadata": {
    "pycharm": {
     "name": "#%% md\n"
    }
   },
   "source": [
    "\n",
    "## Ideas for Future Work\n",
    "\n",
    "A few things that can be tried to improve model performance are:\n",
    "\n",
    "1. Tuning of hyper-parameters:\n",
    "\n",
    "\n",
    "    - number of hidden cells\n",
    "    - number of hidden layers\n",
    "    - actor/ critic learning rates\n",
    "    - batch size\n",
    "    - noise regularization\n",
    "    \n",
    "2. Try other algorithms such as D4PG, A2C and PPO and see how they compare."
   ]
  }
 ],
 "metadata": {
  "kernelspec": {
   "display_name": "Python 3",
   "language": "python",
   "name": "python3"
  },
  "language_info": {
   "codemirror_mode": {
    "name": "ipython",
    "version": 3
   },
   "file_extension": ".py",
   "mimetype": "text/x-python",
   "name": "python",
   "nbconvert_exporter": "python",
   "pygments_lexer": "ipython3",
   "version": "3.6.10"
  },
  "pycharm": {
   "stem_cell": {
    "cell_type": "raw",
    "source": [],
    "metadata": {
     "collapsed": false
    }
   }
  }
 },
 "nbformat": 4,
 "nbformat_minor": 4
}